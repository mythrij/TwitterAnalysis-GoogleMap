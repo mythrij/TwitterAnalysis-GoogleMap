{
 "cells": [
  {
   "cell_type": "code",
   "execution_count": 3,
   "metadata": {
    "collapsed": false
   },
   "outputs": [],
   "source": [
    "library(twitteR)\n",
    "\n"
   ]
  },
  {
   "cell_type": "code",
   "execution_count": 17,
   "metadata": {
    "collapsed": true
   },
   "outputs": [],
   "source": [
    "library(ggmap)\n"
   ]
  },
  {
   "cell_type": "code",
   "execution_count": 5,
   "metadata": {
    "collapsed": true
   },
   "outputs": [],
   "source": [
    "api_key <- \"xdmNa3w51Um1fvfW0YfPBBagN\"\n",
    "api_secret <- \"Sbh1odevoZOYCQspkTbQn23qkXL6kc6TUJFup61hA3gYNdwmfa\"\n",
    "access_token <- \"569718950-rEkmMPchYx88CIoW3pl6vtWyoae5J3Wwm5vEHQyY\"\n",
    "access_token_secret <- \"mnRFwO8BNTkWc4Gqm4KaI2AsYQL4TnHioUCPZQPTM3s31\"\n"
   ]
  },
  {
   "cell_type": "code",
   "execution_count": 18,
   "metadata": {
    "collapsed": false
   },
   "outputs": [
    {
     "name": "stdout",
     "output_type": "stream",
     "text": [
      "[1] \"Using direct authentication\"\n"
     ]
    }
   ],
   "source": [
    "setup_twitter_oauth(api_key, api_secret, access_token, access_token_secret)\n"
   ]
  },
  {
   "cell_type": "code",
   "execution_count": 19,
   "metadata": {
    "collapsed": false
   },
   "outputs": [
    {
     "name": "stderr",
     "output_type": "stream",
     "text": [
      "Information from URL : http://maps.googleapis.com/maps/api/geocode/json?address=antarctica&sensor=false\n"
     ]
    }
   ],
   "source": [
    "location <- \"antarctica\"\n",
    "geocode <- geocode(location)"
   ]
  },
  {
   "cell_type": "code",
   "execution_count": 20,
   "metadata": {
    "collapsed": false
   },
   "outputs": [
    {
     "data": {
      "text/html": [
       "<table>\n",
       "<thead><tr><th scope=col>lon</th><th scope=col>lat</th></tr></thead>\n",
       "<tbody>\n",
       "\t<tr><td>135      </td><td>-82.86275</td></tr>\n",
       "</tbody>\n",
       "</table>\n"
      ],
      "text/latex": [
       "\\begin{tabular}{r|ll}\n",
       " lon & lat\\\\\n",
       "\\hline\n",
       "\t 135       & -82.86275\\\\\n",
       "\\end{tabular}\n"
      ],
      "text/markdown": [
       "\n",
       "lon | lat | \n",
       "|---|\n",
       "| 135       | -82.86275 | \n",
       "\n",
       "\n"
      ],
      "text/plain": [
       "  lon lat      \n",
       "1 135 -82.86275"
      ]
     },
     "metadata": {},
     "output_type": "display_data"
    }
   ],
   "source": [
    "geocode\n"
   ]
  },
  {
   "cell_type": "code",
   "execution_count": 32,
   "metadata": {
    "collapsed": false
   },
   "outputs": [],
   "source": [
    "wid1<- closestTrendLocations(lat=geocode$lat,long=geocode$lon)\n"
   ]
  },
  {
   "cell_type": "code",
   "execution_count": 33,
   "metadata": {
    "collapsed": false
   },
   "outputs": [
    {
     "data": {
      "text/html": [
       "<table>\n",
       "<thead><tr><th scope=col>name</th><th scope=col>country</th><th scope=col>woeid</th></tr></thead>\n",
       "<tbody>\n",
       "\t<tr><td>New Zealand</td><td>New Zealand</td><td>23424916   </td></tr>\n",
       "</tbody>\n",
       "</table>\n"
      ],
      "text/latex": [
       "\\begin{tabular}{r|lll}\n",
       " name & country & woeid\\\\\n",
       "\\hline\n",
       "\t New Zealand & New Zealand & 23424916   \\\\\n",
       "\\end{tabular}\n"
      ],
      "text/markdown": [
       "\n",
       "name | country | woeid | \n",
       "|---|\n",
       "| New Zealand | New Zealand | 23424916    | \n",
       "\n",
       "\n"
      ],
      "text/plain": [
       "  name        country     woeid   \n",
       "1 New Zealand New Zealand 23424916"
      ]
     },
     "metadata": {},
     "output_type": "display_data"
    }
   ],
   "source": [
    "wid1\n"
   ]
  },
  {
   "cell_type": "code",
   "execution_count": 36,
   "metadata": {
    "collapsed": false
   },
   "outputs": [],
   "source": [
    "toptrends <- getTrends(wid$woeid)\n"
   ]
  },
  {
   "cell_type": "code",
   "execution_count": 37,
   "metadata": {
    "collapsed": false
   },
   "outputs": [
    {
     "data": {
      "text/html": [
       "<ol class=list-inline>\n",
       "\t<li>'#TheVoice'</li>\n",
       "\t<li>'#cepostaperte'</li>\n",
       "\t<li>'#الاتحاد_الشباب'</li>\n",
       "\t<li>'#melfest'</li>\n",
       "\t<li>'#الهلال_الملكي_ستون_عام'</li>\n",
       "\t<li>'Norma McCorvey'</li>\n",
       "\t<li>'Rocko'</li>\n",
       "\t<li>'Clyde Stubblefield'</li>\n",
       "\t<li>'Jovetic'</li>\n",
       "\t<li>'#كلمه_بقلبك_تقولها'</li>\n",
       "\t<li>'#مراقص_برعايه_هييه_الترفيه'</li>\n",
       "\t<li>'#جيش_عصير_سيزر_جزر_وبرتقال'</li>\n",
       "\t<li>'#Eurowizja'</li>\n",
       "\t<li>'#حياتك8'</li>\n",
       "\t<li>'#AllYourFaultPt1'</li>\n",
       "\t<li>'#BuyLoveOniTunes'</li>\n",
       "\t<li>'#LetItShine'</li>\n",
       "\t<li>'#COAC2017C6'</li>\n",
       "\t<li>'#widm'</li>\n",
       "\t<li>'#نطالب_بقتل_جميع_البنات'</li>\n",
       "\t<li>'#الله_يا_بعض_الناس'</li>\n",
       "\t<li>'#L6Nnóoscondena'</li>\n",
       "\t<li>'#NationalDrinkWineDay'</li>\n",
       "\t<li>'#volemacollir'</li>\n",
       "\t<li>'#MissBiopharma17'</li>\n",
       "\t<li>'#بتويتر_كرهت'</li>\n",
       "\t<li>'#ASOTFESTNL'</li>\n",
       "\t<li>'#HayalEdiyorum'</li>\n",
       "\t<li>'#عيد_ميلاد_تيم_المباحث'</li>\n",
       "\t<li>'#ريم_العتيبي_سافرت_مكه'</li>\n",
       "\t<li>'#ElAudioDeMassa'</li>\n",
       "\t<li>'#FıratÇakıroğluDemek'</li>\n",
       "\t<li>'#EmpoliLazio'</li>\n",
       "\t<li>'#NotTheEnemy'</li>\n",
       "\t<li>'#DSDS'</li>\n",
       "\t<li>'#FACup'</li>\n",
       "\t<li>'#مقاطعه_المشروبات_الغازيه'</li>\n",
       "\t<li>'#ItsOnlyFunUntil'</li>\n",
       "\t<li>'#WorldClubSeries'</li>\n",
       "\t<li>'#ArabIdol'</li>\n",
       "\t<li>'#احبك_بس_انك'</li>\n",
       "\t<li>'#Söyleyeceğim1ŞeyDeŞu'</li>\n",
       "\t<li>'#GobiernoDeA2Centavos'</li>\n",
       "\t<li>'#HaydiAvni'</li>\n",
       "\t<li>'#ArtistaDelFestivalLali'</li>\n",
       "\t<li>'#SMCLOSC'</li>\n",
       "\t<li>'#شكرا_فواز_القرني'</li>\n",
       "\t<li>'#IUvPZ'</li>\n",
       "\t<li>'#FCLOGCN'</li>\n",
       "\t<li>'#eestilaul2017'</li>\n",
       "</ol>\n"
      ],
      "text/latex": [
       "\\begin{enumerate*}\n",
       "\\item '\\#TheVoice'\n",
       "\\item '\\#cepostaperte'\n",
       "\\item '\\#الاتحاد\\_الشباب'\n",
       "\\item '\\#melfest'\n",
       "\\item '\\#الهلال\\_الملكي\\_ستون\\_عام'\n",
       "\\item 'Norma McCorvey'\n",
       "\\item 'Rocko'\n",
       "\\item 'Clyde Stubblefield'\n",
       "\\item 'Jovetic'\n",
       "\\item '\\#كلمه\\_بقلبك\\_تقولها'\n",
       "\\item '\\#مراقص\\_برعايه\\_هييه\\_الترفيه'\n",
       "\\item '\\#جيش\\_عصير\\_سيزر\\_جزر\\_وبرتقال'\n",
       "\\item '\\#Eurowizja'\n",
       "\\item '\\#حياتك8'\n",
       "\\item '\\#AllYourFaultPt1'\n",
       "\\item '\\#BuyLoveOniTunes'\n",
       "\\item '\\#LetItShine'\n",
       "\\item '\\#COAC2017C6'\n",
       "\\item '\\#widm'\n",
       "\\item '\\#نطالب\\_بقتل\\_جميع\\_البنات'\n",
       "\\item '\\#الله\\_يا\\_بعض\\_الناس'\n",
       "\\item '\\#L6Nnóoscondena'\n",
       "\\item '\\#NationalDrinkWineDay'\n",
       "\\item '\\#volemacollir'\n",
       "\\item '\\#MissBiopharma17'\n",
       "\\item '\\#بتويتر\\_كرهت'\n",
       "\\item '\\#ASOTFESTNL'\n",
       "\\item '\\#HayalEdiyorum'\n",
       "\\item '\\#عيد\\_ميلاد\\_تيم\\_المباحث'\n",
       "\\item '\\#ريم\\_العتيبي\\_سافرت\\_مكه'\n",
       "\\item '\\#ElAudioDeMassa'\n",
       "\\item '\\#FıratÇakıroğluDemek'\n",
       "\\item '\\#EmpoliLazio'\n",
       "\\item '\\#NotTheEnemy'\n",
       "\\item '\\#DSDS'\n",
       "\\item '\\#FACup'\n",
       "\\item '\\#مقاطعه\\_المشروبات\\_الغازيه'\n",
       "\\item '\\#ItsOnlyFunUntil'\n",
       "\\item '\\#WorldClubSeries'\n",
       "\\item '\\#ArabIdol'\n",
       "\\item '\\#احبك\\_بس\\_انك'\n",
       "\\item '\\#Söyleyeceğim1ŞeyDeŞu'\n",
       "\\item '\\#GobiernoDeA2Centavos'\n",
       "\\item '\\#HaydiAvni'\n",
       "\\item '\\#ArtistaDelFestivalLali'\n",
       "\\item '\\#SMCLOSC'\n",
       "\\item '\\#شكرا\\_فواز\\_القرني'\n",
       "\\item '\\#IUvPZ'\n",
       "\\item '\\#FCLOGCN'\n",
       "\\item '\\#eestilaul2017'\n",
       "\\end{enumerate*}\n"
      ],
      "text/markdown": [
       "1. '#TheVoice'\n",
       "2. '#cepostaperte'\n",
       "3. '#الاتحاد_الشباب'\n",
       "4. '#melfest'\n",
       "5. '#الهلال_الملكي_ستون_عام'\n",
       "6. 'Norma McCorvey'\n",
       "7. 'Rocko'\n",
       "8. 'Clyde Stubblefield'\n",
       "9. 'Jovetic'\n",
       "10. '#كلمه_بقلبك_تقولها'\n",
       "11. '#مراقص_برعايه_هييه_الترفيه'\n",
       "12. '#جيش_عصير_سيزر_جزر_وبرتقال'\n",
       "13. '#Eurowizja'\n",
       "14. '#حياتك8'\n",
       "15. '#AllYourFaultPt1'\n",
       "16. '#BuyLoveOniTunes'\n",
       "17. '#LetItShine'\n",
       "18. '#COAC2017C6'\n",
       "19. '#widm'\n",
       "20. '#نطالب_بقتل_جميع_البنات'\n",
       "21. '#الله_يا_بعض_الناس'\n",
       "22. '#L6Nnóoscondena'\n",
       "23. '#NationalDrinkWineDay'\n",
       "24. '#volemacollir'\n",
       "25. '#MissBiopharma17'\n",
       "26. '#بتويتر_كرهت'\n",
       "27. '#ASOTFESTNL'\n",
       "28. '#HayalEdiyorum'\n",
       "29. '#عيد_ميلاد_تيم_المباحث'\n",
       "30. '#ريم_العتيبي_سافرت_مكه'\n",
       "31. '#ElAudioDeMassa'\n",
       "32. '#FıratÇakıroğluDemek'\n",
       "33. '#EmpoliLazio'\n",
       "34. '#NotTheEnemy'\n",
       "35. '#DSDS'\n",
       "36. '#FACup'\n",
       "37. '#مقاطعه_المشروبات_الغازيه'\n",
       "38. '#ItsOnlyFunUntil'\n",
       "39. '#WorldClubSeries'\n",
       "40. '#ArabIdol'\n",
       "41. '#احبك_بس_انك'\n",
       "42. '#Söyleyeceğim1ŞeyDeŞu'\n",
       "43. '#GobiernoDeA2Centavos'\n",
       "44. '#HaydiAvni'\n",
       "45. '#ArtistaDelFestivalLali'\n",
       "46. '#SMCLOSC'\n",
       "47. '#شكرا_فواز_القرني'\n",
       "48. '#IUvPZ'\n",
       "49. '#FCLOGCN'\n",
       "50. '#eestilaul2017'\n",
       "\n",
       "\n"
      ],
      "text/plain": [
       " [1] \"#TheVoice\"                  \"#cepostaperte\"             \n",
       " [3] \"#الاتحاد_الشباب\"            \"#melfest\"                  \n",
       " [5] \"#الهلال_الملكي_ستون_عام\"    \"Norma McCorvey\"            \n",
       " [7] \"Rocko\"                      \"Clyde Stubblefield\"        \n",
       " [9] \"Jovetic\"                    \"#كلمه_بقلبك_تقولها\"        \n",
       "[11] \"#مراقص_برعايه_هييه_الترفيه\" \"#جيش_عصير_سيزر_جزر_وبرتقال\"\n",
       "[13] \"#Eurowizja\"                 \"#حياتك8\"                   \n",
       "[15] \"#AllYourFaultPt1\"           \"#BuyLoveOniTunes\"          \n",
       "[17] \"#LetItShine\"                \"#COAC2017C6\"               \n",
       "[19] \"#widm\"                      \"#نطالب_بقتل_جميع_البنات\"   \n",
       "[21] \"#الله_يا_بعض_الناس\"         \"#L6Nnóoscondena\"           \n",
       "[23] \"#NationalDrinkWineDay\"      \"#volemacollir\"             \n",
       "[25] \"#MissBiopharma17\"           \"#بتويتر_كرهت\"              \n",
       "[27] \"#ASOTFESTNL\"                \"#HayalEdiyorum\"            \n",
       "[29] \"#عيد_ميلاد_تيم_المباحث\"     \"#ريم_العتيبي_سافرت_مكه\"    \n",
       "[31] \"#ElAudioDeMassa\"            \"#FıratÇakıroğluDemek\"      \n",
       "[33] \"#EmpoliLazio\"               \"#NotTheEnemy\"              \n",
       "[35] \"#DSDS\"                      \"#FACup\"                    \n",
       "[37] \"#مقاطعه_المشروبات_الغازيه\"  \"#ItsOnlyFunUntil\"          \n",
       "[39] \"#WorldClubSeries\"           \"#ArabIdol\"                 \n",
       "[41] \"#احبك_بس_انك\"               \"#Söyleyeceğim1ŞeyDeŞu\"     \n",
       "[43] \"#GobiernoDeA2Centavos\"      \"#HaydiAvni\"                \n",
       "[45] \"#ArtistaDelFestivalLali\"    \"#SMCLOSC\"                  \n",
       "[47] \"#شكرا_فواز_القرني\"          \"#IUvPZ\"                    \n",
       "[49] \"#FCLOGCN\"                   \"#eestilaul2017\"            "
      ]
     },
     "metadata": {},
     "output_type": "display_data"
    }
   ],
   "source": [
    "toptrends$name "
   ]
  },
  {
   "cell_type": "code",
   "execution_count": null,
   "metadata": {
    "collapsed": true
   },
   "outputs": [],
   "source": [
    "### Run the cell below to create a file with the output"
   ]
  },
  {
   "cell_type": "code",
   "execution_count": 44,
   "metadata": {
    "collapsed": false
   },
   "outputs": [
    {
     "data": {
      "text/html": [
       "<ol>\n",
       "\t<li>NULL</li>\n",
       "\t<li>NULL</li>\n",
       "\t<li>NULL</li>\n",
       "\t<li>NULL</li>\n",
       "\t<li>NULL</li>\n",
       "\t<li>NULL</li>\n",
       "\t<li>NULL</li>\n",
       "\t<li>NULL</li>\n",
       "\t<li>NULL</li>\n",
       "\t<li>NULL</li>\n",
       "\t<li>NULL</li>\n",
       "\t<li>NULL</li>\n",
       "\t<li>NULL</li>\n",
       "\t<li>NULL</li>\n",
       "\t<li>NULL</li>\n",
       "\t<li>NULL</li>\n",
       "\t<li>NULL</li>\n",
       "\t<li>NULL</li>\n",
       "\t<li>NULL</li>\n",
       "\t<li>NULL</li>\n",
       "\t<li>NULL</li>\n",
       "\t<li>NULL</li>\n",
       "\t<li>NULL</li>\n",
       "\t<li>NULL</li>\n",
       "\t<li>NULL</li>\n",
       "\t<li>NULL</li>\n",
       "\t<li>NULL</li>\n",
       "\t<li>NULL</li>\n",
       "\t<li>NULL</li>\n",
       "\t<li>NULL</li>\n",
       "\t<li>NULL</li>\n",
       "\t<li>NULL</li>\n",
       "\t<li>NULL</li>\n",
       "\t<li>NULL</li>\n",
       "\t<li>NULL</li>\n",
       "\t<li>NULL</li>\n",
       "\t<li>NULL</li>\n",
       "\t<li>NULL</li>\n",
       "\t<li>NULL</li>\n",
       "\t<li>NULL</li>\n",
       "\t<li>NULL</li>\n",
       "\t<li>NULL</li>\n",
       "\t<li>NULL</li>\n",
       "\t<li>NULL</li>\n",
       "\t<li>NULL</li>\n",
       "\t<li>NULL</li>\n",
       "\t<li>NULL</li>\n",
       "\t<li>NULL</li>\n",
       "\t<li>NULL</li>\n",
       "\t<li>NULL</li>\n",
       "</ol>\n"
      ],
      "text/latex": [
       "\\begin{enumerate}\n",
       "\\item NULL\n",
       "\\item NULL\n",
       "\\item NULL\n",
       "\\item NULL\n",
       "\\item NULL\n",
       "\\item NULL\n",
       "\\item NULL\n",
       "\\item NULL\n",
       "\\item NULL\n",
       "\\item NULL\n",
       "\\item NULL\n",
       "\\item NULL\n",
       "\\item NULL\n",
       "\\item NULL\n",
       "\\item NULL\n",
       "\\item NULL\n",
       "\\item NULL\n",
       "\\item NULL\n",
       "\\item NULL\n",
       "\\item NULL\n",
       "\\item NULL\n",
       "\\item NULL\n",
       "\\item NULL\n",
       "\\item NULL\n",
       "\\item NULL\n",
       "\\item NULL\n",
       "\\item NULL\n",
       "\\item NULL\n",
       "\\item NULL\n",
       "\\item NULL\n",
       "\\item NULL\n",
       "\\item NULL\n",
       "\\item NULL\n",
       "\\item NULL\n",
       "\\item NULL\n",
       "\\item NULL\n",
       "\\item NULL\n",
       "\\item NULL\n",
       "\\item NULL\n",
       "\\item NULL\n",
       "\\item NULL\n",
       "\\item NULL\n",
       "\\item NULL\n",
       "\\item NULL\n",
       "\\item NULL\n",
       "\\item NULL\n",
       "\\item NULL\n",
       "\\item NULL\n",
       "\\item NULL\n",
       "\\item NULL\n",
       "\\end{enumerate}\n"
      ],
      "text/markdown": [
       "1. NULL\n",
       "2. NULL\n",
       "3. NULL\n",
       "4. NULL\n",
       "5. NULL\n",
       "6. NULL\n",
       "7. NULL\n",
       "8. NULL\n",
       "9. NULL\n",
       "10. NULL\n",
       "11. NULL\n",
       "12. NULL\n",
       "13. NULL\n",
       "14. NULL\n",
       "15. NULL\n",
       "16. NULL\n",
       "17. NULL\n",
       "18. NULL\n",
       "19. NULL\n",
       "20. NULL\n",
       "21. NULL\n",
       "22. NULL\n",
       "23. NULL\n",
       "24. NULL\n",
       "25. NULL\n",
       "26. NULL\n",
       "27. NULL\n",
       "28. NULL\n",
       "29. NULL\n",
       "30. NULL\n",
       "31. NULL\n",
       "32. NULL\n",
       "33. NULL\n",
       "34. NULL\n",
       "35. NULL\n",
       "36. NULL\n",
       "37. NULL\n",
       "38. NULL\n",
       "39. NULL\n",
       "40. NULL\n",
       "41. NULL\n",
       "42. NULL\n",
       "43. NULL\n",
       "44. NULL\n",
       "45. NULL\n",
       "46. NULL\n",
       "47. NULL\n",
       "48. NULL\n",
       "49. NULL\n",
       "50. NULL\n",
       "\n",
       "\n"
      ],
      "text/plain": [
       "[[1]]\n",
       "NULL\n",
       "\n",
       "[[2]]\n",
       "NULL\n",
       "\n",
       "[[3]]\n",
       "NULL\n",
       "\n",
       "[[4]]\n",
       "NULL\n",
       "\n",
       "[[5]]\n",
       "NULL\n",
       "\n",
       "[[6]]\n",
       "NULL\n",
       "\n",
       "[[7]]\n",
       "NULL\n",
       "\n",
       "[[8]]\n",
       "NULL\n",
       "\n",
       "[[9]]\n",
       "NULL\n",
       "\n",
       "[[10]]\n",
       "NULL\n",
       "\n",
       "[[11]]\n",
       "NULL\n",
       "\n",
       "[[12]]\n",
       "NULL\n",
       "\n",
       "[[13]]\n",
       "NULL\n",
       "\n",
       "[[14]]\n",
       "NULL\n",
       "\n",
       "[[15]]\n",
       "NULL\n",
       "\n",
       "[[16]]\n",
       "NULL\n",
       "\n",
       "[[17]]\n",
       "NULL\n",
       "\n",
       "[[18]]\n",
       "NULL\n",
       "\n",
       "[[19]]\n",
       "NULL\n",
       "\n",
       "[[20]]\n",
       "NULL\n",
       "\n",
       "[[21]]\n",
       "NULL\n",
       "\n",
       "[[22]]\n",
       "NULL\n",
       "\n",
       "[[23]]\n",
       "NULL\n",
       "\n",
       "[[24]]\n",
       "NULL\n",
       "\n",
       "[[25]]\n",
       "NULL\n",
       "\n",
       "[[26]]\n",
       "NULL\n",
       "\n",
       "[[27]]\n",
       "NULL\n",
       "\n",
       "[[28]]\n",
       "NULL\n",
       "\n",
       "[[29]]\n",
       "NULL\n",
       "\n",
       "[[30]]\n",
       "NULL\n",
       "\n",
       "[[31]]\n",
       "NULL\n",
       "\n",
       "[[32]]\n",
       "NULL\n",
       "\n",
       "[[33]]\n",
       "NULL\n",
       "\n",
       "[[34]]\n",
       "NULL\n",
       "\n",
       "[[35]]\n",
       "NULL\n",
       "\n",
       "[[36]]\n",
       "NULL\n",
       "\n",
       "[[37]]\n",
       "NULL\n",
       "\n",
       "[[38]]\n",
       "NULL\n",
       "\n",
       "[[39]]\n",
       "NULL\n",
       "\n",
       "[[40]]\n",
       "NULL\n",
       "\n",
       "[[41]]\n",
       "NULL\n",
       "\n",
       "[[42]]\n",
       "NULL\n",
       "\n",
       "[[43]]\n",
       "NULL\n",
       "\n",
       "[[44]]\n",
       "NULL\n",
       "\n",
       "[[45]]\n",
       "NULL\n",
       "\n",
       "[[46]]\n",
       "NULL\n",
       "\n",
       "[[47]]\n",
       "NULL\n",
       "\n",
       "[[48]]\n",
       "NULL\n",
       "\n",
       "[[49]]\n",
       "NULL\n",
       "\n",
       "[[50]]\n",
       "NULL\n"
      ]
     },
     "metadata": {},
     "output_type": "display_data"
    }
   ],
   "source": [
    "lapply(toptrends$name, write, \"toptrends.txt\", append=TRUE)"
   ]
  },
  {
   "cell_type": "code",
   "execution_count": null,
   "metadata": {
    "collapsed": true
   },
   "outputs": [],
   "source": []
  }
 ],
 "metadata": {
  "kernelspec": {
   "display_name": "R",
   "language": "R",
   "name": "ir"
  },
  "language_info": {
   "codemirror_mode": "r",
   "file_extension": ".r",
   "mimetype": "text/x-r-source",
   "name": "R",
   "pygments_lexer": "r",
   "version": "3.3.2"
  }
 },
 "nbformat": 4,
 "nbformat_minor": 2
}
