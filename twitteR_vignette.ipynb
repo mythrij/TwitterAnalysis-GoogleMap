{
 "cells": [
  {
   "cell_type": "markdown",
   "metadata": {},
   "source": [
    "#loading the twitteR package"
   ]
  },
  {
   "cell_type": "code",
   "execution_count": 2,
   "metadata": {
    "collapsed": true
   },
   "outputs": [],
   "source": [
    " library(twitteR)"
   ]
  },
  {
   "cell_type": "markdown",
   "metadata": {},
   "source": [
    "#authenticating twitteR"
   ]
  },
  {
   "cell_type": "code",
   "execution_count": 4,
   "metadata": {
    "collapsed": false
   },
   "outputs": [
    {
     "name": "stdout",
     "output_type": "stream",
     "text": [
      "[1] \"Using direct authentication\"\n"
     ]
    }
   ],
   "source": [
    "api_key <- \"xdmNa3w51Um1fvfW0YfPBBagN\"\n",
    "api_secret <- \"Sbh1odevoZOYCQspkTbQn23qkXL6kc6TUJFup61hA3gYNdwmfa\"\n",
    "access_token <- \"569718950-rEkmMPchYx88CIoW3pl6vtWyoae5J3Wwm5vEHQyY\"\n",
    "access_token_secret <- \"mnRFwO8BNTkWc4Gqm4KaI2AsYQL4TnHioUCPZQPTM3s31\"\n",
    "\n",
    "setup_twitter_oauth(api_key, api_secret, access_token, access_token_secret)"
   ]
  },
  {
   "cell_type": "markdown",
   "metadata": {},
   "source": [
    "#searching for and retrieving tweets using searchTwitter"
   ]
  },
  {
   "cell_type": "code",
   "execution_count": 5,
   "metadata": {
    "collapsed": false
   },
   "outputs": [
    {
     "data": {
      "text/plain": [
       "[[1]]\n",
       "[1] \"lskurrus: RT @TrumpsACartoon: I hear you talking #Trump but you're not saying anything. #NoPlan\\n#TrumpRally \\n#NarcissistInChief \\n#notmypresident #The…\"\n",
       "\n",
       "[[2]]\n",
       "[1] \"ScaryMummy09: RT @RichardAngwin: FACT CHECK: The news media is not the enemy and the #Trump Administration is not a fine-tuned machine.\\n\\n#NotTheEnemy #1u…\"\n",
       "\n",
       "[[3]]\n",
       "[1] \"becksterbo: RT @doug69: #Trump is exiting the plane in Orlando- Melbourne intel. Airport... https://t.co/mJWLXG24M9\"\n",
       "\n",
       "[[4]]\n",
       "[1] \"TheBelmontClan: RT @JackiSchechner: Remember, #Trump manufactures his products overseas, hires foreign workers, and uses Chinese steel for his buildings. #…\"\n",
       "\n",
       "[[5]]\n",
       "[1] \"LJ_Skipper: Watching this #Trump rally in Florida and I'm like: https://t.co/DjTQkAnpgr\"\n",
       "\n",
       "[[6]]\n",
       "[1] \"bastet_4711: RT @RBuellmann: #Trump hat seinem Sicherheitspersonal gerade den Angstschweiß auf die Stirn getrieben und einen Anhänger aus der Menge auf…\"\n"
      ]
     },
     "metadata": {},
     "output_type": "display_data"
    }
   ],
   "source": [
    "tweets <- searchTwitter('#Trump', n=50)\n",
    "head(tweets)"
   ]
  },
  {
   "cell_type": "markdown",
   "metadata": {},
   "source": [
    "#stripping the retweets"
   ]
  },
  {
   "cell_type": "code",
   "execution_count": 7,
   "metadata": {
    "collapsed": false
   },
   "outputs": [
    {
     "data": {
      "text/plain": [
       "[[1]]\n",
       "[1] \"LJ_Skipper: Watching this #Trump rally in Florida and I'm like: https://t.co/DjTQkAnpgr\"\n",
       "\n",
       "[[2]]\n",
       "[1] \"mholsteinjr: @realDonaldTrump @POTUS Doesn't look like alot of people to me. #Trump #DonaldTrump #Melbourne\"\n",
       "\n",
       "[[3]]\n",
       "[1] \"SEM3376: Love or Hate #Trump he is entertaining! #TrumpRally are Country has to many checks &amp; balances to worry, everyone relax &amp; enjoy the show.\"\n",
       "\n",
       "[[4]]\n",
       "[1] \"TucsonVoice28: Vain Trump, the media is not supposed to 'thank you' they're supposed to report the news. #TrumpRallly #Trump Florida\"\n",
       "\n",
       "[[5]]\n",
       "[1] \"nicolepagelee: I just watched the #secretservice 's head explode collectively with random #Trump dude invited onstage by #Trump #wtf\"\n",
       "\n",
       "[[6]]\n",
       "[1] \"micksuv: I can't believe I just witnessed that! The Secret Service would be thrilled \\xed\\xa0\\xbd\\xed\\xb8\\x90 Guy met his hero though... \\xed\\xa0\\xbd\\xed\\xb8\\x82 #trump\"\n"
      ]
     },
     "metadata": {},
     "output_type": "display_data"
    }
   ],
   "source": [
    " head(strip_retweets(tweets, strip_manual=TRUE, strip_mt=TRUE))"
   ]
  },
  {
   "cell_type": "markdown",
   "metadata": {},
   "source": [
    "#user info"
   ]
  },
  {
   "cell_type": "code",
   "execution_count": 8,
   "metadata": {
    "collapsed": false
   },
   "outputs": [
    {
     "data": {
      "text/html": [
       "'Account run by the 23rd Prime Minister of Canada and staff… Compte géré par le 23e premier ministre du Canada et personnel.'"
      ],
      "text/latex": [
       "'Account run by the 23rd Prime Minister of Canada and staff… Compte géré par le 23e premier ministre du Canada et personnel.'"
      ],
      "text/markdown": [
       "'Account run by the 23rd Prime Minister of Canada and staff… Compte géré par le 23e premier ministre du Canada et personnel.'"
      ],
      "text/plain": [
       "[1] \"Account run by the 23rd Prime Minister of Canada and staff… Compte géré par le 23e premier ministre du Canada et personnel.\""
      ]
     },
     "metadata": {},
     "output_type": "display_data"
    }
   ],
   "source": [
    "ca_pm <- getUser('justintrudeau')\n",
    "ca_pm$getDescription()"
   ]
  },
  {
   "cell_type": "code",
   "execution_count": 9,
   "metadata": {
    "collapsed": false
   },
   "outputs": [
    {
     "data": {
      "text/html": [
       "2908443"
      ],
      "text/latex": [
       "2908443"
      ],
      "text/markdown": [
       "2908443"
      ],
      "text/plain": [
       "[1] 2908443"
      ]
     },
     "metadata": {},
     "output_type": "display_data"
    }
   ],
   "source": [
    "ca_pm$getFollowersCount()"
   ]
  },
  {
   "cell_type": "code",
   "execution_count": 10,
   "metadata": {
    "collapsed": false
   },
   "outputs": [
    {
     "data": {
      "text/plain": [
       "$`462301069`\n",
       "[1] \"Premier_Silver\"\n",
       "\n",
       "$`132367691`\n",
       "[1] \"mariesoleildion\"\n",
       "\n",
       "$`95498557`\n",
       "[1] \"daviddbgraham\"\n",
       "\n",
       "$`676573`\n",
       "[1] \"tobi\"\n",
       "\n",
       "$`82119937`\n",
       "[1] \"lopezobrador_\"\n",
       "\n",
       "$`24900072`\n",
       "[1] \"mauriciomacri\"\n"
      ]
     },
     "metadata": {},
     "output_type": "display_data"
    }
   ],
   "source": [
    "ca_pm$getFriends(n=6)"
   ]
  },
  {
   "cell_type": "code",
   "execution_count": 11,
   "metadata": {
    "collapsed": false
   },
   "outputs": [
    {
     "data": {
      "text/plain": [
       "[[1]]\n",
       "[1] \"RalphGoodale: \\\"Hallelujah\\\" for the incredible life's work of Canada's unforgettable + beloved Leonard Cohen. May he rest in peace.\"\n",
       "\n",
       "[[2]]\n",
       "[1] \"ChefChuckHughes: WOW!!! Woke up in total shock!!! Just Can't believe it,,,,,,,,,,,,,Canucks finally won a hockey game!\"\n",
       "\n",
       "[[3]]\n",
       "[1] \"CaydenLapcevich: @JustinTrudeau Thank you Justin!\"\n",
       "\n",
       "[[4]]\n",
       "[1] \"StudentsOnIce: Thank you PM @JustinTrudeau for inspiring our youth to achieve great things! #SOIArctic2016 https://t.co/2UCyG547QI https://t.co/hoBL2T6ZPw\"\n",
       "\n",
       "[[5]]\n",
       "[1] \"TeamCanada: @JustinTrudeau @RosieMacLennan Thank you for your support prime minister, great day at the Hill. Enjoy the Games.\"\n"
      ]
     },
     "metadata": {},
     "output_type": "display_data"
    }
   ],
   "source": [
    "ca_pm$getFavorites(n=5)"
   ]
  },
  {
   "cell_type": "markdown",
   "metadata": {},
   "source": [
    "#converting to dataframe"
   ]
  },
  {
   "cell_type": "code",
   "execution_count": 12,
   "metadata": {
    "collapsed": false
   },
   "outputs": [
    {
     "data": {
      "text/html": [
       "<table>\n",
       "<thead><tr><th scope=col>text</th><th scope=col>favorited</th><th scope=col>favoriteCount</th><th scope=col>replyToSN</th><th scope=col>created</th><th scope=col>truncated</th><th scope=col>replyToSID</th><th scope=col>id</th><th scope=col>replyToUID</th><th scope=col>statusSource</th><th scope=col>screenName</th><th scope=col>retweetCount</th><th scope=col>isRetweet</th><th scope=col>retweeted</th><th scope=col>longitude</th><th scope=col>latitude</th></tr></thead>\n",
       "<tbody>\n",
       "\t<tr><td>RT @TrumpsACartoon: I hear you talking #Trump but you're not saying anything. #NoPlan\n",
       "#TrumpRally \n",
       "#NarcissistInChief \n",
       "#notmypresident #The…</td><td>FALSE                                                                                                                                          </td><td>0                                                                                                                                              </td><td>NA                                                                                                                                             </td><td>2017-02-18 23:11:54                                                                                                                            </td><td>FALSE                                                                                                                                          </td><td>NA                                                                                                                                             </td><td>833091702822928385                                                                                                                             </td><td>NA                                                                                                                                             </td><td><span style=white-space:pre-wrap>&lt;a href=\"http://twitter.com/download/iphone\" rel=\"nofollow\"&gt;Twitter for iPhone&lt;/a&gt;  </span>       </td><td><span style=white-space:pre-wrap>lskurrus      </span>                                                                                         </td><td> 48                                                                                                                                            </td><td> TRUE                                                                                                                                          </td><td>FALSE                                                                                                                                          </td><td>NA                                                                                                                                             </td><td>NA                                                                                                                                             </td></tr>\n",
       "\t<tr><td>RT @RichardAngwin: FACT CHECK: The news media is not the enemy and the #Trump Administration is not a fine-tuned machine.\n",
       "\n",
       "#NotTheEnemy #1u… </td><td>FALSE                                                                                                                                          </td><td>0                                                                                                                                              </td><td>NA                                                                                                                                             </td><td>2017-02-18 23:11:54                                                                                                                            </td><td>FALSE                                                                                                                                          </td><td>NA                                                                                                                                             </td><td>833091702659375108                                                                                                                             </td><td>NA                                                                                                                                             </td><td>&lt;a href=\"http://twitter.com/download/android\" rel=\"nofollow\"&gt;Twitter for Android&lt;/a&gt;                                               </td><td><span style=white-space:pre-wrap>ScaryMummy09  </span>                                                                                         </td><td>201                                                                                                                                            </td><td> TRUE                                                                                                                                          </td><td>FALSE                                                                                                                                          </td><td>NA                                                                                                                                             </td><td>NA                                                                                                                                             </td></tr>\n",
       "\t<tr><td><span style=white-space:pre-wrap>RT @doug69: #Trump is exiting the plane in Orlando- Melbourne intel. Airport... https://t.co/mJWLXG24M9                                        </span></td><td>FALSE                                                                                                                                                                                  </td><td>0                                                                                                                                                                                      </td><td>NA                                                                                                                                                                                     </td><td>2017-02-18 23:11:54                                                                                                                                                                    </td><td>FALSE                                                                                                                                                                                  </td><td>NA                                                                                                                                                                                     </td><td>833091701640196096                                                                                                                                                                     </td><td>NA                                                                                                                                                                                     </td><td><span style=white-space:pre-wrap>&lt;a href=\"https://mobile.twitter.com\" rel=\"nofollow\"&gt;Mobile Web (M5)&lt;/a&gt;             </span>                                               </td><td><span style=white-space:pre-wrap>becksterbo    </span>                                                                                                                                 </td><td><span style=white-space:pre-wrap>  2</span>                                                                                                                                            </td><td> TRUE                                                                                                                                                                                  </td><td>FALSE                                                                                                                                                                                  </td><td>NA                                                                                                                                                                                     </td><td>NA                                                                                                                                                                                     </td></tr>\n",
       "\t<tr><td><span style=white-space:pre-wrap>RT @JackiSchechner: Remember, #Trump manufactures his products overseas, hires foreign workers, and uses Chinese steel for his buildings. #…   </span></td><td>FALSE                                                                                                                                                                                  </td><td>0                                                                                                                                                                                      </td><td>NA                                                                                                                                                                                     </td><td>2017-02-18 23:11:53                                                                                                                                                                    </td><td>FALSE                                                                                                                                                                                  </td><td>NA                                                                                                                                                                                     </td><td>833091698599325696                                                                                                                                                                     </td><td>NA                                                                                                                                                                                     </td><td>&lt;a href=\"http://twitter.com/download/android\" rel=\"nofollow\"&gt;Twitter for Android&lt;/a&gt;                                                                                       </td><td>TheBelmontClan                                                                                                                                                                         </td><td> 23                                                                                                                                                                                    </td><td> TRUE                                                                                                                                                                                  </td><td>FALSE                                                                                                                                                                                  </td><td>NA                                                                                                                                                                                     </td><td>NA                                                                                                                                                                                     </td></tr>\n",
       "\t<tr><td><span style=white-space:pre-wrap>Watching this #Trump rally in Florida and I'm like: https://t.co/DjTQkAnpgr                                                                    </span></td><td>FALSE                                                                                                                                                                                  </td><td>0                                                                                                                                                                                      </td><td>NA                                                                                                                                                                                     </td><td>2017-02-18 23:11:53                                                                                                                                                                    </td><td>FALSE                                                                                                                                                                                  </td><td>NA                                                                                                                                                                                     </td><td>833091698125373440                                                                                                                                                                     </td><td>NA                                                                                                                                                                                     </td><td>&lt;a href=\"http://twitter.com/download/android\" rel=\"nofollow\"&gt;Twitter for Android&lt;/a&gt;                                                                                       </td><td><span style=white-space:pre-wrap>LJ_Skipper    </span>                                                                                                                                 </td><td><span style=white-space:pre-wrap>  0</span>                                                                                                                                            </td><td>FALSE                                                                                                                                                                                  </td><td>FALSE                                                                                                                                                                                  </td><td>NA                                                                                                                                                                                     </td><td>NA                                                                                                                                                                                     </td></tr>\n",
       "\t<tr><td><span style=white-space:pre-wrap>RT @RBuellmann: #Trump hat seinem Sicherheitspersonal gerade den Angstschweiß auf die Stirn getrieben und einen Anhänger aus der Menge auf…    </span></td><td>FALSE                                                                                                                                                                                  </td><td>0                                                                                                                                                                                      </td><td>NA                                                                                                                                                                                     </td><td>2017-02-18 23:11:53                                                                                                                                                                    </td><td>FALSE                                                                                                                                                                                  </td><td>NA                                                                                                                                                                                     </td><td>833091697462607873                                                                                                                                                                     </td><td>NA                                                                                                                                                                                     </td><td>&lt;a href=\"http://twitter.com/download/android\" rel=\"nofollow\"&gt;Twitter for Android&lt;/a&gt;                                                                                       </td><td><span style=white-space:pre-wrap>bastet_4711   </span>                                                                                                                                 </td><td><span style=white-space:pre-wrap>  1</span>                                                                                                                                            </td><td> TRUE                                                                                                                                                                                  </td><td>FALSE                                                                                                                                                                                  </td><td>NA                                                                                                                                                                                     </td><td>NA                                                                                                                                                                                     </td></tr>\n",
       "</tbody>\n",
       "</table>\n"
      ],
      "text/latex": [
       "\\begin{tabular}{r|llllllllllllllll}\n",
       " text & favorited & favoriteCount & replyToSN & created & truncated & replyToSID & id & replyToUID & statusSource & screenName & retweetCount & isRetweet & retweeted & longitude & latitude\\\\\n",
       "\\hline\n",
       "\t RT @TrumpsACartoon: I hear you talking \\#Trump but you're not saying anything. \\#NoPlan\n",
       "\\#TrumpRally \n",
       "\\#NarcissistInChief \n",
       "\\#notmypresident \\#The… & FALSE                                                                                                                                                       & 0                                                                                                                                                           & NA                                                                                                                                                          & 2017-02-18 23:11:54                                                                                                                                         & FALSE                                                                                                                                                       & NA                                                                                                                                                          & 833091702822928385                                                                                                                                          & NA                                                                                                                                                          & <a href=\"http://twitter.com/download/iphone\" rel=\"nofollow\">Twitter for iPhone</a>                                                                          & lskurrus                                                                                                                                                    &  48                                                                                                                                                         &  TRUE                                                                                                                                                       & FALSE                                                                                                                                                       & NA                                                                                                                                                          & NA                                                                                                                                                         \\\\\n",
       "\t RT @RichardAngwin: FACT CHECK: The news media is not the enemy and the \\#Trump Administration is not a fine-tuned machine.\n",
       "\n",
       "\\#NotTheEnemy \\#1u…  & FALSE                                                                                                                                                 & 0                                                                                                                                                     & NA                                                                                                                                                    & 2017-02-18 23:11:54                                                                                                                                   & FALSE                                                                                                                                                 & NA                                                                                                                                                    & 833091702659375108                                                                                                                                    & NA                                                                                                                                                    & <a href=\"http://twitter.com/download/android\" rel=\"nofollow\">Twitter for Android</a>                                                                  & ScaryMummy09                                                                                                                                          & 201                                                                                                                                                   &  TRUE                                                                                                                                                 & FALSE                                                                                                                                                 & NA                                                                                                                                                    & NA                                                                                                                                                   \\\\\n",
       "\t RT @doug69: \\#Trump is exiting the plane in Orlando- Melbourne intel. Airport... https://t.co/mJWLXG24M9                                         & FALSE                                                                                                                                             & 0                                                                                                                                                 & NA                                                                                                                                                & 2017-02-18 23:11:54                                                                                                                               & FALSE                                                                                                                                             & NA                                                                                                                                                & 833091701640196096                                                                                                                                & NA                                                                                                                                                & <a href=\"https://mobile.twitter.com\" rel=\"nofollow\">Mobile Web (M5)</a>                                                                           & becksterbo                                                                                                                                        &   2                                                                                                                                               &  TRUE                                                                                                                                             & FALSE                                                                                                                                             & NA                                                                                                                                                & NA                                                                                                                                               \\\\\n",
       "\t RT @JackiSchechner: Remember, \\#Trump manufactures his products overseas, hires foreign workers, and uses Chinese steel for his buildings. \\#…    & FALSE                                                                                                                                               & 0                                                                                                                                                   & NA                                                                                                                                                  & 2017-02-18 23:11:53                                                                                                                                 & FALSE                                                                                                                                               & NA                                                                                                                                                  & 833091698599325696                                                                                                                                  & NA                                                                                                                                                  & <a href=\"http://twitter.com/download/android\" rel=\"nofollow\">Twitter for Android</a>                                                                & TheBelmontClan                                                                                                                                      &  23                                                                                                                                                 &  TRUE                                                                                                                                               & FALSE                                                                                                                                               & NA                                                                                                                                                  & NA                                                                                                                                                 \\\\\n",
       "\t Watching this \\#Trump rally in Florida and I'm like: https://t.co/DjTQkAnpgr                                                                     & FALSE                                                                                                                                             & 0                                                                                                                                                 & NA                                                                                                                                                & 2017-02-18 23:11:53                                                                                                                               & FALSE                                                                                                                                             & NA                                                                                                                                                & 833091698125373440                                                                                                                                & NA                                                                                                                                                & <a href=\"http://twitter.com/download/android\" rel=\"nofollow\">Twitter for Android</a>                                                              & LJ\\_Skipper                                                                                                                                      &   0                                                                                                                                               & FALSE                                                                                                                                             & FALSE                                                                                                                                             & NA                                                                                                                                                & NA                                                                                                                                               \\\\\n",
       "\t RT @RBuellmann: \\#Trump hat seinem Sicherheitspersonal gerade den Angstschweiß auf die Stirn getrieben und einen Anhänger aus der Menge auf…     & FALSE                                                                                                                                             & 0                                                                                                                                                 & NA                                                                                                                                                & 2017-02-18 23:11:53                                                                                                                               & FALSE                                                                                                                                             & NA                                                                                                                                                & 833091697462607873                                                                                                                                & NA                                                                                                                                                & <a href=\"http://twitter.com/download/android\" rel=\"nofollow\">Twitter for Android</a>                                                              & bastet\\_4711                                                                                                                                     &   1                                                                                                                                               &  TRUE                                                                                                                                             & FALSE                                                                                                                                             & NA                                                                                                                                                & NA                                                                                                                                               \\\\\n",
       "\\end{tabular}\n"
      ],
      "text/markdown": [
       "\n",
       "text | favorited | favoriteCount | replyToSN | created | truncated | replyToSID | id | replyToUID | statusSource | screenName | retweetCount | isRetweet | retweeted | longitude | latitude | \n",
       "|---|---|---|---|---|---|\n",
       "| RT @TrumpsACartoon: I hear you talking #Trump but you're not saying anything. #NoPlan\n",
       "#TrumpRally \n",
       "#NarcissistInChief \n",
       "#notmypresident #The… | FALSE                                                                                                                                           | 0                                                                                                                                               | NA                                                                                                                                              | 2017-02-18 23:11:54                                                                                                                             | FALSE                                                                                                                                           | NA                                                                                                                                              | 833091702822928385                                                                                                                              | NA                                                                                                                                              | <a href=\"http://twitter.com/download/iphone\" rel=\"nofollow\">Twitter for iPhone</a>                                                              | lskurrus                                                                                                                                        |  48                                                                                                                                             |  TRUE                                                                                                                                           | FALSE                                                                                                                                           | NA                                                                                                                                              | NA                                                                                                                                              | \n",
       "| RT @RichardAngwin: FACT CHECK: The news media is not the enemy and the #Trump Administration is not a fine-tuned machine.\n",
       "\n",
       "#NotTheEnemy #1u…  | FALSE                                                                                                                                           | 0                                                                                                                                               | NA                                                                                                                                              | 2017-02-18 23:11:54                                                                                                                             | FALSE                                                                                                                                           | NA                                                                                                                                              | 833091702659375108                                                                                                                              | NA                                                                                                                                              | <a href=\"http://twitter.com/download/android\" rel=\"nofollow\">Twitter for Android</a>                                                            | ScaryMummy09                                                                                                                                    | 201                                                                                                                                             |  TRUE                                                                                                                                           | FALSE                                                                                                                                           | NA                                                                                                                                              | NA                                                                                                                                              | \n",
       "| RT @doug69: #Trump is exiting the plane in Orlando- Melbourne intel. Airport... https://t.co/mJWLXG24M9                                         | FALSE                                                                                                                                           | 0                                                                                                                                               | NA                                                                                                                                              | 2017-02-18 23:11:54                                                                                                                             | FALSE                                                                                                                                           | NA                                                                                                                                              | 833091701640196096                                                                                                                              | NA                                                                                                                                              | <a href=\"https://mobile.twitter.com\" rel=\"nofollow\">Mobile Web (M5)</a>                                                                         | becksterbo                                                                                                                                      |   2                                                                                                                                             |  TRUE                                                                                                                                           | FALSE                                                                                                                                           | NA                                                                                                                                              | NA                                                                                                                                              | \n",
       "| RT @JackiSchechner: Remember, #Trump manufactures his products overseas, hires foreign workers, and uses Chinese steel for his buildings. #…    | FALSE                                                                                                                                           | 0                                                                                                                                               | NA                                                                                                                                              | 2017-02-18 23:11:53                                                                                                                             | FALSE                                                                                                                                           | NA                                                                                                                                              | 833091698599325696                                                                                                                              | NA                                                                                                                                              | <a href=\"http://twitter.com/download/android\" rel=\"nofollow\">Twitter for Android</a>                                                            | TheBelmontClan                                                                                                                                  |  23                                                                                                                                             |  TRUE                                                                                                                                           | FALSE                                                                                                                                           | NA                                                                                                                                              | NA                                                                                                                                              | \n",
       "| Watching this #Trump rally in Florida and I'm like: https://t.co/DjTQkAnpgr                                                                     | FALSE                                                                                                                                           | 0                                                                                                                                               | NA                                                                                                                                              | 2017-02-18 23:11:53                                                                                                                             | FALSE                                                                                                                                           | NA                                                                                                                                              | 833091698125373440                                                                                                                              | NA                                                                                                                                              | <a href=\"http://twitter.com/download/android\" rel=\"nofollow\">Twitter for Android</a>                                                            | LJ_Skipper                                                                                                                                      |   0                                                                                                                                             | FALSE                                                                                                                                           | FALSE                                                                                                                                           | NA                                                                                                                                              | NA                                                                                                                                              | \n",
       "| RT @RBuellmann: #Trump hat seinem Sicherheitspersonal gerade den Angstschweiß auf die Stirn getrieben und einen Anhänger aus der Menge auf…     | FALSE                                                                                                                                           | 0                                                                                                                                               | NA                                                                                                                                              | 2017-02-18 23:11:53                                                                                                                             | FALSE                                                                                                                                           | NA                                                                                                                                              | 833091697462607873                                                                                                                              | NA                                                                                                                                              | <a href=\"http://twitter.com/download/android\" rel=\"nofollow\">Twitter for Android</a>                                                            | bastet_4711                                                                                                                                     |   1                                                                                                                                             |  TRUE                                                                                                                                           | FALSE                                                                                                                                           | NA                                                                                                                                              | NA                                                                                                                                              | \n",
       "\n",
       "\n"
      ],
      "text/plain": [
       "  text                                                                                                                                           \n",
       "1 RT @TrumpsACartoon: I hear you talking #Trump but you're not saying anything. #NoPlan\\n#TrumpRally \\n#NarcissistInChief \\n#notmypresident #The…\n",
       "2 RT @RichardAngwin: FACT CHECK: The news media is not the enemy and the #Trump Administration is not a fine-tuned machine.\\n\\n#NotTheEnemy #1u… \n",
       "3 RT @doug69: #Trump is exiting the plane in Orlando- Melbourne intel. Airport... https://t.co/mJWLXG24M9                                        \n",
       "4 RT @JackiSchechner: Remember, #Trump manufactures his products overseas, hires foreign workers, and uses Chinese steel for his buildings. #…   \n",
       "5 Watching this #Trump rally in Florida and I'm like: https://t.co/DjTQkAnpgr                                                                    \n",
       "6 RT @RBuellmann: #Trump hat seinem Sicherheitspersonal gerade den Angstschweiß auf die Stirn getrieben und einen Anhänger aus der Menge auf…    \n",
       "  favorited favoriteCount replyToSN created             truncated replyToSID\n",
       "1 FALSE     0             NA        2017-02-18 23:11:54 FALSE     NA        \n",
       "2 FALSE     0             NA        2017-02-18 23:11:54 FALSE     NA        \n",
       "3 FALSE     0             NA        2017-02-18 23:11:54 FALSE     NA        \n",
       "4 FALSE     0             NA        2017-02-18 23:11:53 FALSE     NA        \n",
       "5 FALSE     0             NA        2017-02-18 23:11:53 FALSE     NA        \n",
       "6 FALSE     0             NA        2017-02-18 23:11:53 FALSE     NA        \n",
       "  id                 replyToUID\n",
       "1 833091702822928385 NA        \n",
       "2 833091702659375108 NA        \n",
       "3 833091701640196096 NA        \n",
       "4 833091698599325696 NA        \n",
       "5 833091698125373440 NA        \n",
       "6 833091697462607873 NA        \n",
       "  statusSource                                                                        \n",
       "1 <a href=\"http://twitter.com/download/iphone\" rel=\"nofollow\">Twitter for iPhone</a>  \n",
       "2 <a href=\"http://twitter.com/download/android\" rel=\"nofollow\">Twitter for Android</a>\n",
       "3 <a href=\"https://mobile.twitter.com\" rel=\"nofollow\">Mobile Web (M5)</a>             \n",
       "4 <a href=\"http://twitter.com/download/android\" rel=\"nofollow\">Twitter for Android</a>\n",
       "5 <a href=\"http://twitter.com/download/android\" rel=\"nofollow\">Twitter for Android</a>\n",
       "6 <a href=\"http://twitter.com/download/android\" rel=\"nofollow\">Twitter for Android</a>\n",
       "  screenName     retweetCount isRetweet retweeted longitude latitude\n",
       "1 lskurrus        48           TRUE     FALSE     NA        NA      \n",
       "2 ScaryMummy09   201           TRUE     FALSE     NA        NA      \n",
       "3 becksterbo       2           TRUE     FALSE     NA        NA      \n",
       "4 TheBelmontClan  23           TRUE     FALSE     NA        NA      \n",
       "5 LJ_Skipper       0          FALSE     FALSE     NA        NA      \n",
       "6 bastet_4711      1           TRUE     FALSE     NA        NA      "
      ]
     },
     "metadata": {},
     "output_type": "display_data"
    }
   ],
   "source": [
    "df <- twListToDF(tweets)\n",
    "head(df)"
   ]
  },
  {
   "cell_type": "code",
   "execution_count": 16,
   "metadata": {
    "collapsed": false
   },
   "outputs": [
    {
     "name": "stderr",
     "output_type": "stream",
     "text": [
      "also installing the dependencies ‘memoise’, ‘plogr’\n",
      "\n",
      "Updating HTML index of packages in '.Library'\n",
      "Making 'packages.html' ... done\n"
     ]
    },
    {
     "data": {
      "text/html": [
       "TRUE"
      ],
      "text/latex": [
       "TRUE"
      ],
      "text/markdown": [
       "TRUE"
      ],
      "text/plain": [
       "[1] TRUE"
      ]
     },
     "metadata": {},
     "output_type": "display_data"
    }
   ],
   "source": [
    "install.packages(\"RSQLite\")\n",
    "library(RSQLite)\n",
    "sql_lite_file = tempfile()\n",
    "register_sqlite_backend(sql_lite_file)\n",
    "store_tweets_db(tweets)"
   ]
  },
  {
   "cell_type": "code",
   "execution_count": 17,
   "metadata": {
    "collapsed": false
   },
   "outputs": [
    {
     "data": {
      "text/plain": [
       "[[1]]\n",
       "[1] \"lskurrus: RT @TrumpsACartoon: I hear you talking #Trump but you're not saying anything. #NoPlan\\n#TrumpRally \\n#NarcissistInChief \\n#notmypresident #The…\"\n",
       "\n",
       "[[2]]\n",
       "[1] \"ScaryMummy09: RT @RichardAngwin: FACT CHECK: The news media is not the enemy and the #Trump Administration is not a fine-tuned machine.\\n\\n#NotTheEnemy #1u…\"\n",
       "\n",
       "[[3]]\n",
       "[1] \"becksterbo: RT @doug69: #Trump is exiting the plane in Orlando- Melbourne intel. Airport... https://t.co/mJWLXG24M9\"\n",
       "\n",
       "[[4]]\n",
       "[1] \"TheBelmontClan: RT @JackiSchechner: Remember, #Trump manufactures his products overseas, hires foreign workers, and uses Chinese steel for his buildings. #…\"\n",
       "\n",
       "[[5]]\n",
       "[1] \"LJ_Skipper: Watching this #Trump rally in Florida and I'm like: https://t.co/DjTQkAnpgr\"\n",
       "\n",
       "[[6]]\n",
       "[1] \"bastet_4711: RT @RBuellmann: #Trump hat seinem Sicherheitspersonal gerade den Angstschweiß auf die Stirn getrieben und einen Anhänger aus der Menge auf…\"\n"
      ]
     },
     "metadata": {},
     "output_type": "display_data"
    }
   ],
   "source": [
    "from_db = load_tweets_db()\n",
    "head(from_db)"
   ]
  },
  {
   "cell_type": "markdown",
   "metadata": {},
   "source": [
    "#timeline retrieval"
   ]
  },
  {
   "cell_type": "code",
   "execution_count": 18,
   "metadata": {
    "collapsed": false
   },
   "outputs": [
    {
     "data": {
      "text/plain": [
       "[[1]]\n",
       "[1] \"JustinTrudeau: Nice to see Claude Julien behind the bench again for the @CanadiensMTL. Welcome back. #GoHabsGo\"\n",
       "\n",
       "[[2]]\n",
       "[1] \"JustinTrudeau: C'est bon de revoir Claude Julien derrière le banc des @CanadiensMTL. Bon retour. #GoHabsGo\"\n",
       "\n",
       "[[3]]\n",
       "[1] \"JustinTrudeau: This week, we promoted the jobs &amp; economic growth #CETA will bring to the middle class in Canada &amp; Europe: https://t.co/aJQbRUPJWQ\"\n",
       "\n",
       "[[4]]\n",
       "[1] \"JustinTrudeau: Cette semaine, nous avons promu les avantages pour la classe moyenne que l’#AECG engendrera au Canada et en Europe : https://t.co/oqAnWpF1Ia\"\n",
       "\n",
       "[[5]]\n",
       "[1] \"JustinTrudeau: Great news for people in British Columbia – get the details on new funding for mental health services &amp; home care:… https://t.co/Mejlgp34ns\"\n"
      ]
     },
     "metadata": {},
     "output_type": "display_data"
    }
   ],
   "source": [
    "jt_tweets <- userTimeline('justintrudeau')\n",
    "jt_tweets[1:5]"
   ]
  },
  {
   "cell_type": "markdown",
   "metadata": {},
   "source": [
    "#trends"
   ]
  },
  {
   "cell_type": "code",
   "execution_count": 19,
   "metadata": {
    "collapsed": false
   },
   "outputs": [
    {
     "data": {
      "text/html": [
       "<table>\n",
       "<thead><tr><th scope=col>name</th><th scope=col>country</th><th scope=col>woeid</th></tr></thead>\n",
       "<tbody>\n",
       "\t<tr><td>Worldwide</td><td>         </td><td>1        </td></tr>\n",
       "\t<tr><td>Winnipeg </td><td>Canada   </td><td>2972     </td></tr>\n",
       "\t<tr><td>Ottawa   </td><td>Canada   </td><td>3369     </td></tr>\n",
       "\t<tr><td>Quebec   </td><td>Canada   </td><td>3444     </td></tr>\n",
       "\t<tr><td>Montreal </td><td>Canada   </td><td>3534     </td></tr>\n",
       "\t<tr><td>Toronto  </td><td>Canada   </td><td>4118     </td></tr>\n",
       "</tbody>\n",
       "</table>\n"
      ],
      "text/latex": [
       "\\begin{tabular}{r|lll}\n",
       " name & country & woeid\\\\\n",
       "\\hline\n",
       "\t Worldwide &           & 1        \\\\\n",
       "\t Winnipeg  & Canada    & 2972     \\\\\n",
       "\t Ottawa    & Canada    & 3369     \\\\\n",
       "\t Quebec    & Canada    & 3444     \\\\\n",
       "\t Montreal  & Canada    & 3534     \\\\\n",
       "\t Toronto   & Canada    & 4118     \\\\\n",
       "\\end{tabular}\n"
      ],
      "text/markdown": [
       "\n",
       "name | country | woeid | \n",
       "|---|---|---|---|---|---|\n",
       "| Worldwide |           | 1         | \n",
       "| Winnipeg  | Canada    | 2972      | \n",
       "| Ottawa    | Canada    | 3369      | \n",
       "| Quebec    | Canada    | 3444      | \n",
       "| Montreal  | Canada    | 3534      | \n",
       "| Toronto   | Canada    | 4118      | \n",
       "\n",
       "\n"
      ],
      "text/plain": [
       "  name      country woeid\n",
       "1 Worldwide         1    \n",
       "2 Winnipeg  Canada  2972 \n",
       "3 Ottawa    Canada  3369 \n",
       "4 Quebec    Canada  3444 \n",
       "5 Montreal  Canada  3534 \n",
       "6 Toronto   Canada  4118 "
      ]
     },
     "metadata": {},
     "output_type": "display_data"
    }
   ],
   "source": [
    "avail_trends = availableTrendLocations()\n",
    "head(avail_trends)"
   ]
  },
  {
   "cell_type": "code",
   "execution_count": 20,
   "metadata": {
    "collapsed": false
   },
   "outputs": [
    {
     "data": {
      "text/html": [
       "<table>\n",
       "<thead><tr><th scope=col>name</th><th scope=col>country</th><th scope=col>woeid</th></tr></thead>\n",
       "<tbody>\n",
       "\t<tr><td>Concepcion</td><td>Chile     </td><td>349860    </td></tr>\n",
       "</tbody>\n",
       "</table>\n"
      ],
      "text/latex": [
       "\\begin{tabular}{r|lll}\n",
       " name & country & woeid\\\\\n",
       "\\hline\n",
       "\t Concepcion & Chile      & 349860    \\\\\n",
       "\\end{tabular}\n"
      ],
      "text/markdown": [
       "\n",
       "name | country | woeid | \n",
       "|---|\n",
       "| Concepcion | Chile      | 349860     | \n",
       "\n",
       "\n"
      ],
      "text/plain": [
       "  name       country woeid \n",
       "1 Concepcion Chile   349860"
      ]
     },
     "metadata": {},
     "output_type": "display_data"
    }
   ],
   "source": [
    "close_trends = closestTrendLocations(-42.8, -71.1)\n",
    "head(close_trends)"
   ]
  },
  {
   "cell_type": "code",
   "execution_count": 21,
   "metadata": {
    "collapsed": false
   },
   "outputs": [
    {
     "data": {
      "text/html": [
       "<table>\n",
       "<thead><tr><th scope=col>name</th><th scope=col>url</th><th scope=col>query</th><th scope=col>woeid</th></tr></thead>\n",
       "<tbody>\n",
       "\t<tr><td>#TrumpRally                                         </td><td>http://twitter.com/search?q=%23TrumpRally           </td><td>%23TrumpRally                                       </td><td>2367105                                             </td></tr>\n",
       "\t<tr><td>#NACA17                                             </td><td>http://twitter.com/search?q=%23NACA17               </td><td>%23NACA17                                           </td><td>2367105                                             </td></tr>\n",
       "\t<tr><td>#AAASmtg                                            </td><td>http://twitter.com/search?q=%23AAASmtg              </td><td>%23AAASmtg                                          </td><td>2367105                                             </td></tr>\n",
       "\t<tr><td>#ZGWL                                               </td><td>http://twitter.com/search?q=%23ZGWL                 </td><td>%23ZGWL                                             </td><td>2367105                                             </td></tr>\n",
       "\t<tr><td>#NationalDrinkWineDay                               </td><td>http://twitter.com/search?q=%23NationalDrinkWineDay </td><td>%23NationalDrinkWineDay                             </td><td>2367105                                             </td></tr>\n",
       "\t<tr><td>Clyde Stubblefield                                  </td><td>http://twitter.com/search?q=%22Clyde+Stubblefield%22</td><td>%22Clyde+Stubblefield%22                            </td><td>2367105                                             </td></tr>\n",
       "</tbody>\n",
       "</table>\n"
      ],
      "text/latex": [
       "\\begin{tabular}{r|llll}\n",
       " name & url & query & woeid\\\\\n",
       "\\hline\n",
       "\t \\#TrumpRally                                          & http://twitter.com/search?q=\\%23TrumpRally            & \\%23TrumpRally                                        & 2367105                                               \\\\\n",
       "\t \\#NACA17                                              & http://twitter.com/search?q=\\%23NACA17                & \\%23NACA17                                            & 2367105                                               \\\\\n",
       "\t \\#AAASmtg                                             & http://twitter.com/search?q=\\%23AAASmtg               & \\%23AAASmtg                                           & 2367105                                               \\\\\n",
       "\t \\#ZGWL                                                & http://twitter.com/search?q=\\%23ZGWL                  & \\%23ZGWL                                              & 2367105                                               \\\\\n",
       "\t \\#NationalDrinkWineDay                                & http://twitter.com/search?q=\\%23NationalDrinkWineDay  & \\%23NationalDrinkWineDay                              & 2367105                                               \\\\\n",
       "\t Clyde Stubblefield                                       & http://twitter.com/search?q=\\%22Clyde+Stubblefield\\%22 & \\%22Clyde+Stubblefield\\%22                             & 2367105                                                 \\\\\n",
       "\\end{tabular}\n"
      ],
      "text/markdown": [
       "\n",
       "name | url | query | woeid | \n",
       "|---|---|---|---|---|---|\n",
       "| #TrumpRally                                          | http://twitter.com/search?q=%23TrumpRally            | %23TrumpRally                                        | 2367105                                              | \n",
       "| #NACA17                                              | http://twitter.com/search?q=%23NACA17                | %23NACA17                                            | 2367105                                              | \n",
       "| #AAASmtg                                             | http://twitter.com/search?q=%23AAASmtg               | %23AAASmtg                                           | 2367105                                              | \n",
       "| #ZGWL                                                | http://twitter.com/search?q=%23ZGWL                  | %23ZGWL                                              | 2367105                                              | \n",
       "| #NationalDrinkWineDay                                | http://twitter.com/search?q=%23NationalDrinkWineDay  | %23NationalDrinkWineDay                              | 2367105                                              | \n",
       "| Clyde Stubblefield                                   | http://twitter.com/search?q=%22Clyde+Stubblefield%22 | %22Clyde+Stubblefield%22                             | 2367105                                              | \n",
       "\n",
       "\n"
      ],
      "text/plain": [
       "  name                  url                                                 \n",
       "1 #TrumpRally           http://twitter.com/search?q=%23TrumpRally           \n",
       "2 #NACA17               http://twitter.com/search?q=%23NACA17               \n",
       "3 #AAASmtg              http://twitter.com/search?q=%23AAASmtg              \n",
       "4 #ZGWL                 http://twitter.com/search?q=%23ZGWL                 \n",
       "5 #NationalDrinkWineDay http://twitter.com/search?q=%23NationalDrinkWineDay \n",
       "6 Clyde Stubblefield    http://twitter.com/search?q=%22Clyde+Stubblefield%22\n",
       "  query                    woeid  \n",
       "1 %23TrumpRally            2367105\n",
       "2 %23NACA17                2367105\n",
       "3 %23AAASmtg               2367105\n",
       "4 %23ZGWL                  2367105\n",
       "5 %23NationalDrinkWineDay  2367105\n",
       "6 %22Clyde+Stubblefield%22 2367105"
      ]
     },
     "metadata": {},
     "output_type": "display_data"
    }
   ],
   "source": [
    " trends = getTrends(2367105)\n",
    " head(trends)"
   ]
  },
  {
   "cell_type": "code",
   "execution_count": 22,
   "metadata": {
    "collapsed": false
   },
   "outputs": [
    {
     "data": {
      "image/png": "[encoded data removed]",
      "text/plain": [
       "plot without title"
      ]
     },
     "metadata": {},
     "output_type": "display_data"
    }
   ],
   "source": [
    "r_tweets <- searchTwitter(\"#trump\", n=300)\n",
    "sources <- sapply(r_tweets, function(x) x$getStatusSource())\n",
    "sources <- gsub(\"</a>\", \"\", sources)\n",
    "sources <- strsplit(sources, \">\")\n",
    "sources <- sapply(sources, function(x) ifelse(length(x) > 1, x[2], x[1]))\n",
    "source_table = table(sources)\n",
    "pie(source_table[source_table > 10])"
   ]
  },
  {
   "cell_type": "code",
   "execution_count": null,
   "metadata": {
    "collapsed": true
   },
   "outputs": [],
   "source": []
  }
 ],
 "metadata": {
  "kernelspec": {
   "display_name": "R",
   "language": "R",
   "name": "ir"
  },
  "language_info": {
   "codemirror_mode": "r",
   "file_extension": ".r",
   "mimetype": "text/x-r-source",
   "name": "R",
   "pygments_lexer": "r",
   "version": "3.3.2"
  }
 },
 "nbformat": 4,
 "nbformat_minor": 2
}
